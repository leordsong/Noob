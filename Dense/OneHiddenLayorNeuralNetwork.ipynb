{
 "cells": [
  {
   "cell_type": "markdown",
   "metadata": {
    "colab_type": "text",
    "id": "c-DGOCEsMa0N"
   },
   "source": [
    "# One Hidden Layor Neural Network\n",
    "\n",
    "\n",
    "Given a simple 1 hidden layer neural network of $N$ input and $L$ hidden units and sigmoidal activation everywhere. <br/>\n",
    "Then we have:\n",
    "\n",
    "\\begin{split}\n",
    "f(\\vec{x}, \\theta) &= \n",
    "\\sigma(\\vec{W}^{(2)\\intercal}\n",
    "\\sigma(\\vec{W}^{(1)\\intercal}\n",
    " \\vec{x} + \\vec{b}^{(1)}) + \\vec{b}^{(2)})\n",
    "\\end{split}\n",
    "\n",
    "<br/>\n",
    "\n",
    "The partial derivative for an output weight $w_i$ between hidden unit $i$ and the output unit is given by\n",
    "\n",
    "<br/>\n",
    "\n",
    "\\begin{split}\n",
    "\\frac{\\partial J(\\vec{x})}{\\partial w_{i}}\n",
    "&= \\frac{\\partial(f(\\vec{x}) - y)^2}{\\partial w_{i}} \\\\\n",
    "&= 2(f(\\vec{x})-y) \\frac{\\partial f(\\vec{x})}{\\partial w_{i}} \\\\\n",
    "&= 2(f(\\vec{x})-y)f(\\vec{x})(1 - f(\\vec{x}))\n",
    "\\frac{\\partial \\sum_{l=1}^{L}w_lh_l + b}\n",
    "{\\partial w_{i}} \\\\\n",
    "&= 2(f(\\vec{x})-y)f(\\vec{x})(1 - f(\\vec{x})) h_i\\\\\n",
    "\\end{split}\n",
    "\n",
    "<br/>\n",
    "\n",
    "Similiarly, for the output bias weight b, it is given by <br/>\n",
    "\n",
    "\\begin{split}\n",
    "\\frac{\\partial J(\\vec{x})}{\\partial b}\n",
    "&= 2(f(\\vec{x})-y)f(\\vec{x})(1 - f(\\vec{x}))\\\\\n",
    "\\end{split}\n"
   ]
  },
  {
   "cell_type": "code",
   "execution_count": null,
   "metadata": {},
   "outputs": [],
   "source": []
  }
 ],
 "metadata": {
  "colab": {
   "collapsed_sections": [],
   "name": "OneHiddenLayorNeuralNetwork.ipynb",
   "provenance": [],
   "toc_visible": true
  },
  "kernelspec": {
   "display_name": "Python 3",
   "language": "python",
   "name": "python3"
  },
  "language_info": {
   "codemirror_mode": {
    "name": "ipython",
    "version": 3
   },
   "file_extension": ".py",
   "mimetype": "text/x-python",
   "name": "python",
   "nbconvert_exporter": "python",
   "pygments_lexer": "ipython3",
   "version": "3.7.9"
  }
 },
 "nbformat": 4,
 "nbformat_minor": 1
}
